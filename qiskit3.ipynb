{
 "cells": [
  {
   "cell_type": "code",
   "execution_count": 8,
   "metadata": {},
   "outputs": [
    {
     "data": {
      "image/png": "[encoded data removed]",
      "text/plain": [
       "<Figure size 161.878x284.278 with 1 Axes>"
      ]
     },
     "execution_count": 8,
     "metadata": {},
     "output_type": "execute_result"
    }
   ],
   "source": [
    "from qiskit import QuantumCircuit\n",
    "\n",
    "MESSAGE = '00'\n",
    "\n",
    "#Encode message\n",
    "qc = QuantumCircuit(2, 2)\n",
    "if MESSAGE[-1]=='1':\n",
    "    qc.x(0)\n",
    "if MESSAGE[-2]=='1':\n",
    "    qc.x(1)"
   ]
  },
  {
   "cell_type": "code",
   "execution_count": 10,
   "metadata": {},
   "outputs": [
    {
     "data": {
      "text/plain": [
       "{'00': 1024}"
      ]
     },
     "execution_count": 10,
     "metadata": {},
     "output_type": "execute_result"
    }
   ],
   "source": [
    "from qiskit import Aer\n",
    "backend = Aer.get_backend('aer_simulator')\n",
    "\n",
    "#Measure\n",
    "qc_measure = QuantumCircuit(2,2)\n",
    "qc_measure.measure([0,1],[0,1])\n",
    "\n",
    "backend.run(qc.compose(qc_measure)).result().get_counts()\n"
   ]
  },
  {
   "cell_type": "code",
   "execution_count": 11,
   "metadata": {},
   "outputs": [
    {
     "data": {
      "text/plain": [
       "'Statevector([0.70710678+0.j, 0.        +0.j, 0.        +0.j,\\n             0.70710678+0.j],\\n            dims=(2, 2))'"
      ]
     },
     "execution_count": 11,
     "metadata": {},
     "output_type": "execute_result"
    }
   ],
   "source": [
    "from qiskit.quantum_info import Statevector\n",
    "\n",
    "MESSAGE = '00'\n",
    "\n",
    "#Encode message\n",
    "qc = QuantumCircuit(2, 2)\n",
    "if MESSAGE[-1]=='1':\n",
    "    qc.x(0)\n",
    "if MESSAGE[-2]=='1':\n",
    "    qc.x(1)\n",
    "\n",
    "qc.h(1)\n",
    "qc.cx(1,0)\n",
    "\n",
    "ket = Statevector(qc)\n",
    "ket.draw()"
   ]
  },
  {
   "cell_type": "markdown",
   "metadata": {},
   "source": [
    "$$ = \\frac{\\sqrt{2}}{2}\\ket{00} + \\frac{\\sqrt{2}}{2}\\ket{11}$$"
   ]
  },
  {
   "cell_type": "code",
   "execution_count": 13,
   "metadata": {},
   "outputs": [
    {
     "data": {
      "image/png": "[encoded data removed]",
      "text/plain": [
       "<Figure size 454.517x284.278 with 1 Axes>"
      ]
     },
     "execution_count": 13,
     "metadata": {},
     "output_type": "execute_result"
    }
   ],
   "source": [
    "qc_measure = QuantumCircuit(2,2)\n",
    "#Disentangle\n",
    "qc_measure.cx(1,0)\n",
    "qc_measure.h(1)\n",
    "\n",
    "#Measures\n",
    "qc_measure.measure([0,1],[0,1])\n",
    "\n",
    "qc_measure.draw(output = 'mpl')"
   ]
  },
  {
   "cell_type": "code",
   "execution_count": 14,
   "metadata": {},
   "outputs": [
    {
     "data": {
      "text/plain": [
       "{'00': 1024}"
      ]
     },
     "execution_count": 14,
     "metadata": {},
     "output_type": "execute_result"
    }
   ],
   "source": [
    "backend.run(qc.compose(qc_measure)).result().get_counts()"
   ]
  },
  {
   "cell_type": "code",
   "execution_count": 21,
   "metadata": {},
   "outputs": [
    {
     "name": "stdout",
     "output_type": "stream",
     "text": [
      "MESSAGE: 00\n",
      "DECODED MESSAGE: {'00': 1024}\n",
      "\n",
      "\n",
      "MESSAGE: 01\n",
      "DECODED MESSAGE: {'01': 1024}\n",
      "\n",
      "\n",
      "MESSAGE: 10\n",
      "DECODED MESSAGE: {'10': 1024}\n",
      "\n",
      "\n",
      "MESSAGE: 11\n",
      "DECODED MESSAGE: {'11': 1024}\n",
      "\n",
      "\n"
     ]
    }
   ],
   "source": [
    "MESSAGE = ['00', '01', '10', '11']\n",
    "\n",
    "for i in range(len(MESSAGE)):\n",
    "\n",
    "    print('MESSAGE: ' + MESSAGE[i])\n",
    "    #Encode message\n",
    "    qc = QuantumCircuit(2, 2)\n",
    "    if MESSAGE[i][-1]=='1':\n",
    "        qc.x(0)\n",
    "    if MESSAGE[i][-2]=='1':\n",
    "        qc.x(1)\n",
    "\n",
    "    #Entangle\n",
    "    qc.h(1)\n",
    "    qc.cx(1,0)\n",
    "\n",
    "\n",
    "    qc_measure = QuantumCircuit(2,2)\n",
    "\n",
    "    #Disentangle\n",
    "    qc_measure.cx(1,0)\n",
    "    qc_measure.h(1)\n",
    "\n",
    "    #Measures\n",
    "    qc_measure.measure([0,1],[0,1])\n",
    "\n",
    "    print('DECODED MESSAGE: ' + str(backend.run(qc.compose(qc_measure)).result().get_counts()))\n",
    "    print('\\n')\n"
   ]
  },
  {
   "cell_type": "code",
   "execution_count": null,
   "metadata": {},
   "outputs": [],
   "source": []
  }
 ],
 "metadata": {
  "kernelspec": {
   "display_name": "base",
   "language": "python",
   "name": "python3"
  },
  "language_info": {
   "codemirror_mode": {
    "name": "ipython",
    "version": 3
   },
   "file_extension": ".py",
   "mimetype": "text/x-python",
   "name": "python",
   "nbconvert_exporter": "python",
   "pygments_lexer": "ipython3",
   "version": "3.10.12"
  },
  "orig_nbformat": 4
 },
 "nbformat": 4,
 "nbformat_minor": 2
}
